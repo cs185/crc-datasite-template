{
 "cells": [
  {
   "cell_type": "code",
   "execution_count": 8,
   "id": "initial_id",
   "metadata": {
    "collapsed": true,
    "ExecuteTime": {
     "end_time": "2024-04-01T15:12:26.067337Z",
     "start_time": "2024-04-01T15:12:26.004838Z"
    }
   },
   "outputs": [],
   "source": [
    "import pandas\n",
    "from test import load_data"
   ]
  },
  {
   "cell_type": "code",
   "execution_count": 9,
   "outputs": [
    {
     "name": "stdout",
     "output_type": "stream",
     "text": [
      "loading --> nfs\n",
      "Loading 20 files\n"
     ]
    }
   ],
   "source": [
    "nfs_df=load_data('nfs', \"data\")"
   ],
   "metadata": {
    "collapsed": false,
    "ExecuteTime": {
     "end_time": "2024-04-01T15:12:27.218246Z",
     "start_time": "2024-04-01T15:12:26.977978Z"
    }
   },
   "id": "f3450107e0c9e457"
  },
  {
   "cell_type": "code",
   "execution_count": 10,
   "outputs": [],
   "source": [
    "nfs_df[\"type\"] = \"nfs\""
   ],
   "metadata": {
    "collapsed": false,
    "ExecuteTime": {
     "end_time": "2024-04-01T15:13:09.086681Z",
     "start_time": "2024-04-01T15:13:09.077578Z"
    }
   },
   "id": "1d64255d675b4f2"
  },
  {
   "cell_type": "code",
   "execution_count": 11,
   "outputs": [
    {
     "data": {
      "text/plain": "     ads_cnt  dir_cnt  file_cnt  has_subdirs          lin   log_size_sum  \\\n471        0   289973   1593510         True  11499471145  4669356562268   \n322        0   283226   1383147         True  11499471145  4211489715535   \n930        0   289712   1592634         True  11499471145  4668807230865   \n271        0   282198   1375831         True  11499471145  4174713831960   \n63         0   289644   1592518         True  11499471145  4668282863413   \n\n     log_size_sum_overflow name  other_cnt      parent  ...  \\\n471                      0  aaz      46032  4416258770  ...   \n322                      0  aaz      46434  4416258770  ...   \n930                      0  aaz      46032  4416258770  ...   \n271                      0  aaz      46366  4416258770  ...   \n63                       0  aaz      46032  4416258770  ...   \n\n     thresholds__hard_last_exceeded thresholds__percent_advisory  \\\n471                             NaN                         None   \n322                             NaN                         None   \n930                             NaN                         None   \n271                             NaN                         None   \n63                              NaN                         None   \n\n    thresholds__percent_soft  thresholds__soft  thresholds__soft_exceeded  \\\n471                     None              None                      False   \n322                     None              None                      False   \n930                     None              None                      False   \n271                     None              None                      False   \n63                      None              None                      False   \n\n    thresholds__soft_grace  thresholds__soft_last_exceeded  usage__inodes  \\\n471                   None                            None        1929718   \n322                   None                            None        1713602   \n930                   None                            None        1929157   \n271                   None                            None        1713369   \n63                    None                            None        1928263   \n\n    usage__logical usage__physical  \n471  4676301380857   6007652662784  \n322  4226040711166   5477276776960  \n930  4676089783114   6007472302080  \n271  4218353938572   5469528502272  \n63   4675359943033   6010756876800  \n\n[5 rows x 39 columns]",
      "text/html": "<div>\n<style scoped>\n    .dataframe tbody tr th:only-of-type {\n        vertical-align: middle;\n    }\n\n    .dataframe tbody tr th {\n        vertical-align: top;\n    }\n\n    .dataframe thead th {\n        text-align: right;\n    }\n</style>\n<table border=\"1\" class=\"dataframe\">\n  <thead>\n    <tr style=\"text-align: right;\">\n      <th></th>\n      <th>ads_cnt</th>\n      <th>dir_cnt</th>\n      <th>file_cnt</th>\n      <th>has_subdirs</th>\n      <th>lin</th>\n      <th>log_size_sum</th>\n      <th>log_size_sum_overflow</th>\n      <th>name</th>\n      <th>other_cnt</th>\n      <th>parent</th>\n      <th>...</th>\n      <th>thresholds__hard_last_exceeded</th>\n      <th>thresholds__percent_advisory</th>\n      <th>thresholds__percent_soft</th>\n      <th>thresholds__soft</th>\n      <th>thresholds__soft_exceeded</th>\n      <th>thresholds__soft_grace</th>\n      <th>thresholds__soft_last_exceeded</th>\n      <th>usage__inodes</th>\n      <th>usage__logical</th>\n      <th>usage__physical</th>\n    </tr>\n  </thead>\n  <tbody>\n    <tr>\n      <th>471</th>\n      <td>0</td>\n      <td>289973</td>\n      <td>1593510</td>\n      <td>True</td>\n      <td>11499471145</td>\n      <td>4669356562268</td>\n      <td>0</td>\n      <td>aaz</td>\n      <td>46032</td>\n      <td>4416258770</td>\n      <td>...</td>\n      <td>NaN</td>\n      <td>None</td>\n      <td>None</td>\n      <td>None</td>\n      <td>False</td>\n      <td>None</td>\n      <td>None</td>\n      <td>1929718</td>\n      <td>4676301380857</td>\n      <td>6007652662784</td>\n    </tr>\n    <tr>\n      <th>322</th>\n      <td>0</td>\n      <td>283226</td>\n      <td>1383147</td>\n      <td>True</td>\n      <td>11499471145</td>\n      <td>4211489715535</td>\n      <td>0</td>\n      <td>aaz</td>\n      <td>46434</td>\n      <td>4416258770</td>\n      <td>...</td>\n      <td>NaN</td>\n      <td>None</td>\n      <td>None</td>\n      <td>None</td>\n      <td>False</td>\n      <td>None</td>\n      <td>None</td>\n      <td>1713602</td>\n      <td>4226040711166</td>\n      <td>5477276776960</td>\n    </tr>\n    <tr>\n      <th>930</th>\n      <td>0</td>\n      <td>289712</td>\n      <td>1592634</td>\n      <td>True</td>\n      <td>11499471145</td>\n      <td>4668807230865</td>\n      <td>0</td>\n      <td>aaz</td>\n      <td>46032</td>\n      <td>4416258770</td>\n      <td>...</td>\n      <td>NaN</td>\n      <td>None</td>\n      <td>None</td>\n      <td>None</td>\n      <td>False</td>\n      <td>None</td>\n      <td>None</td>\n      <td>1929157</td>\n      <td>4676089783114</td>\n      <td>6007472302080</td>\n    </tr>\n    <tr>\n      <th>271</th>\n      <td>0</td>\n      <td>282198</td>\n      <td>1375831</td>\n      <td>True</td>\n      <td>11499471145</td>\n      <td>4174713831960</td>\n      <td>0</td>\n      <td>aaz</td>\n      <td>46366</td>\n      <td>4416258770</td>\n      <td>...</td>\n      <td>NaN</td>\n      <td>None</td>\n      <td>None</td>\n      <td>None</td>\n      <td>False</td>\n      <td>None</td>\n      <td>None</td>\n      <td>1713369</td>\n      <td>4218353938572</td>\n      <td>5469528502272</td>\n    </tr>\n    <tr>\n      <th>63</th>\n      <td>0</td>\n      <td>289644</td>\n      <td>1592518</td>\n      <td>True</td>\n      <td>11499471145</td>\n      <td>4668282863413</td>\n      <td>0</td>\n      <td>aaz</td>\n      <td>46032</td>\n      <td>4416258770</td>\n      <td>...</td>\n      <td>NaN</td>\n      <td>None</td>\n      <td>None</td>\n      <td>None</td>\n      <td>False</td>\n      <td>None</td>\n      <td>None</td>\n      <td>1928263</td>\n      <td>4675359943033</td>\n      <td>6010756876800</td>\n    </tr>\n  </tbody>\n</table>\n<p>5 rows × 39 columns</p>\n</div>"
     },
     "execution_count": 11,
     "metadata": {},
     "output_type": "execute_result"
    }
   ],
   "source": [
    "nfs_df.head()"
   ],
   "metadata": {
    "collapsed": false,
    "ExecuteTime": {
     "end_time": "2024-04-01T15:13:09.578315Z",
     "start_time": "2024-04-01T15:13:09.574674Z"
    }
   },
   "id": "bfe7fb7bcb590310"
  },
  {
   "cell_type": "code",
   "execution_count": 12,
   "outputs": [
    {
     "name": "stdout",
     "output_type": "stream",
     "text": [
      "loading --> smb\n",
      "Loading 20 files\n"
     ]
    }
   ],
   "source": [
    "smb_df=load_data('smb', \"data\")"
   ],
   "metadata": {
    "collapsed": false,
    "ExecuteTime": {
     "end_time": "2024-04-01T15:14:02.082834Z",
     "start_time": "2024-04-01T15:14:01.887924Z"
    }
   },
   "id": "5d9b2f9dbdcb86ff"
  },
  {
   "cell_type": "code",
   "execution_count": 13,
   "outputs": [],
   "source": [
    "smb_df[\"type\"] = \"smb\""
   ],
   "metadata": {
    "collapsed": false,
    "ExecuteTime": {
     "end_time": "2024-04-01T15:14:10.535003Z",
     "start_time": "2024-04-01T15:14:10.529320Z"
    }
   },
   "id": "f7802ceeea084355"
  },
  {
   "cell_type": "code",
   "execution_count": 15,
   "outputs": [],
   "source": [
    "import pandas as pd\n",
    "\n",
    "df = pd.concat([nfs_df, smb_df])\n",
    "df = df[[\"date\", \"type\", \"name\", \"thresholds__advisory\", \"phys_size_sum\",\n",
    "        \"log_size_sum\", \"thresholds__hard\", \"thresholds__soft\"]]\n",
    "df.to_csv(\"rdf_usage.csv\", index=False)"
   ],
   "metadata": {
    "collapsed": false,
    "ExecuteTime": {
     "end_time": "2024-04-01T15:30:57.719755Z",
     "start_time": "2024-04-01T15:30:57.668691Z"
    }
   },
   "id": "3b410024341fe255"
  },
  {
   "cell_type": "code",
   "execution_count": null,
   "outputs": [],
   "source": [],
   "metadata": {
    "collapsed": false
   },
   "id": "b0eb4f03107dc32f"
  }
 ],
 "metadata": {
  "kernelspec": {
   "display_name": "Python 3",
   "language": "python",
   "name": "python3"
  },
  "language_info": {
   "codemirror_mode": {
    "name": "ipython",
    "version": 2
   },
   "file_extension": ".py",
   "mimetype": "text/x-python",
   "name": "python",
   "nbconvert_exporter": "python",
   "pygments_lexer": "ipython2",
   "version": "2.7.6"
  }
 },
 "nbformat": 4,
 "nbformat_minor": 5
}
